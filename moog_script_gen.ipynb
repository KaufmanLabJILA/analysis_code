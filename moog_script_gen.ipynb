{
 "cells": [
  {
   "cell_type": "code",
   "execution_count": 2,
   "metadata": {},
   "outputs": [],
   "source": [
    "import numpy as np"
   ]
  },
  {
   "cell_type": "code",
   "execution_count": 5,
   "metadata": {},
   "outputs": [],
   "source": [
    "numtones = 5\n",
    "freqcenter = 80\n",
    "spacing = 5\n",
    "amp_guess = 450\n",
    "\n",
    "tone_inds = np.arange(numtones)\n",
    "freqs = np.arange(freqcenter-spacing*numtones/2, freqcenter+spacing*numtones/2, spacing)\n",
    "amps = np.ones(numtones)*amp_guess\n",
    "phases = np.pi*((tone_inds+1)**2)/(numtones)\n",
    "phase_degs = phases*180/np.pi"
   ]
  },
  {
   "cell_type": "code",
   "execution_count": 6,
   "metadata": {},
   "outputs": [
    {
     "name": "stdout",
     "output_type": "stream",
     "text": [
      "onoff 0b11111\n",
      "\n",
      "gain 0 450\n",
      "startfreq 0 67.5\n",
      "loadphase 0 0.628318530718\n",
      "\n",
      "gain 1 450\n",
      "startfreq 1 72.5\n",
      "loadphase 1 2.51327412287\n",
      "\n",
      "gain 2 450\n",
      "startfreq 2 77.5\n",
      "loadphase 2 5.65486677646\n",
      "\n",
      "gain 3 450\n",
      "startfreq 3 82.5\n",
      "loadphase 3 10.0530964915\n",
      "\n",
      "gain 4 450\n",
      "startfreq 4 87.5\n",
      "loadphase 4 15.7079632679\n",
      "\n"
     ]
    }
   ],
   "source": [
    "print('onoff 0b' + '1'*numtones)\n",
    "print('')\n",
    "\n",
    "for ind in tone_inds:\n",
    "    print('gain ' + str(ind) + ' ' + str(amp_guess))\n",
    "    print('startfreq ' + str(ind) + ' ' + str(freqs[ind]))\n",
    "    print('loadphase ' + str(ind) + ' ' + str(phases[ind]))\n",
    "    print('')"
   ]
  },
  {
   "cell_type": "code",
   "execution_count": 8,
   "metadata": {},
   "outputs": [
    {
     "data": {
      "text/plain": [
       "array([  36.,  144.,  324.,  216.,  180.])"
      ]
     },
     "execution_count": 8,
     "metadata": {},
     "output_type": "execute_result"
    }
   ],
   "source": [
    "phase_degs%360"
   ]
  },
  {
   "cell_type": "code",
   "execution_count": null,
   "metadata": {},
   "outputs": [],
   "source": []
  }
 ],
 "metadata": {
  "kernelspec": {
   "display_name": "Python 3",
   "language": "python",
   "name": "python3"
  },
  "language_info": {
   "codemirror_mode": {
    "name": "ipython",
    "version": 3
   },
   "file_extension": ".py",
   "mimetype": "text/x-python",
   "name": "python",
   "nbconvert_exporter": "python",
   "pygments_lexer": "ipython3",
   "version": "3.6.2"
  }
 },
 "nbformat": 4,
 "nbformat_minor": 2
}
