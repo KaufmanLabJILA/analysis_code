{
 "cells": [
  {
   "cell_type": "code",
   "execution_count": 1,
   "metadata": {},
   "outputs": [],
   "source": [
    "import numpy as np\n",
    "import matplotlib.pyplot as plt\n",
    "import numpy.linalg as LA\n",
    "import scipy.linalg as SLA"
   ]
  },
  {
   "cell_type": "code",
   "execution_count": 198,
   "metadata": {},
   "outputs": [],
   "source": [
    "m_e = 9.11e-31 # kg\n",
    "Z = 38\n",
    "hbar = 1.05e-34 # (m^2)kg/s\n",
    "q = 1.6e-19 # C\n",
    "eps0 = 8.85e-12 # Farad/meter\n",
    "au = 5.29e-11 # m\n",
    "amu = 4.36e-18 # J, one Hartree\n",
    "E_SrIonIon = 11.03019*1.6e-19 # Joules; From NIST paper below\n",
    "wn_to_J = .0001239841930098*1.6e-19\n",
    "c = 3e8"
   ]
  },
  {
   "cell_type": "code",
   "execution_count": 575,
   "metadata": {},
   "outputs": [],
   "source": [
    "def E(I): ## electric field amplitude for a given intensity\n",
    "    return np.sqrt((2/(c*eps0))*I)"
   ]
  },
  {
   "cell_type": "code",
   "execution_count": 577,
   "metadata": {},
   "outputs": [],
   "source": [
    "# For now, back out the dipole matrix elements from the Gil,...,Pohl spin squeezing paper\n",
    "# They quote a Rabi frqeuency of Rabi_To_Rydberg55/(2*pi) of 20 MHz for a beam waist of ~30 microns, and power ~.5W\n",
    "P_pohl = .5 # watts\n",
    "w_pohl = 30e-6 # meters\n",
    "# the peak intensity of such a beam would be\n",
    "I_pohl = P_pohl/(np.pi*(w_pohl**2)) # peak intensity\n",
    "\n",
    "## Quoted Rabi frequency from clock state to n=55 rydberg S state:\n",
    "f_rabi_ryd = 2*np.pi*20e6 ## 2*pi*Hz\n",
    "\n",
    "# now back out dipole matrix element:\n",
    "d_3p0_Ryd = (f_rabi_ryd*hbar)/E(I_pohl)"
   ]
  },
  {
   "cell_type": "code",
   "execution_count": 589,
   "metadata": {},
   "outputs": [
    {
     "name": "stdout",
     "output_type": "stream",
     "text": [
      "If 3p0 were the only decay channel, n=55 S state lifetime would be 856.5051949540216 microseconds\n"
     ]
    }
   ],
   "source": [
    "# as a check, calculate the decay rate into clock state that this would give, using transition wavelength of 316.5nm\n",
    "omega = 2*np.pi*c/(316.5e-9)\n",
    "A = 2*(omega**3)*(d_3p0_Ryd**2)/(3*eps0*(c**3)*(hbar*2*np.pi)) ## Einstein A coefficient\n",
    "print('If 3p0 were the only decay channel, n=55 S state lifetime would be ' + str((1/A)*1e6) + ' microseconds')"
   ]
  },
  {
   "cell_type": "code",
   "execution_count": 593,
   "metadata": {},
   "outputs": [
    {
     "name": "stdout",
     "output_type": "stream",
     "text": [
      "20.0\n"
     ]
    }
   ],
   "source": [
    "# Now give function for Rabi frqeuency as function of intensity, using this dipole matrix element\n",
    "def Omega(I):\n",
    "    return d_3p0_Ryd*E(I)/hbar\n",
    "print((Omega(I_pohl)/(2*np.pi))*1e-6)"
   ]
  },
  {
   "cell_type": "markdown",
   "metadata": {},
   "source": [
    "At this point, need the C_6 van der Waals coefficient to get the interactions. There is a lovely paper that calculates (and nicely tabulates) these values for Alkaline-Earth Atoms:\n",
    "\n",
    "https://iopscience.iop.org/article/10.1088/0953-4075/45/13/135004\n",
    "\n",
    "See the supplementary info for their data"
   ]
  },
  {
   "cell_type": "code",
   "execution_count": 454,
   "metadata": {},
   "outputs": [],
   "source": [
    "C6 = (-2.06e20)*amu # Joules"
   ]
  },
  {
   "cell_type": "code",
   "execution_count": 623,
   "metadata": {},
   "outputs": [],
   "source": [
    "# V0 is the interaction strength, as a function of the detuning and intensity\n",
    "def V0(I,Delta):\n",
    "    return ((Omega(I)/(2*Delta))**3)*hbar*Omega(I)\n",
    "# Rc is the blockade radius. It is also a function of the detuning \\Delta\n",
    "def Rc(Delta):\n",
    "    return (np.abs(C6/(2*hbar*Delta))**(1/6.0))*au # converts from atomic units to SI"
   ]
  },
  {
   "cell_type": "code",
   "execution_count": 627,
   "metadata": {},
   "outputs": [],
   "source": [
    "# Interaction strength between sites separated by a distance r\n",
    "def V(r,I,Delta):\n",
    "    return (V0(I,Delta)*(Rc(Delta))**6)/(r**6 + Rc(Del)**6)"
   ]
  },
  {
   "cell_type": "code",
   "execution_count": 656,
   "metadata": {},
   "outputs": [
    {
     "name": "stdout",
     "output_type": "stream",
     "text": [
      "V_0/(hbar) = 1.9634954084936205 kHz\n"
     ]
    }
   ],
   "source": [
    "Del = 20*Omega(I_pohl) # Detuning in Pohl paper is 20 tiems the rabi frequency (I think they forgot the twidle in def.)\n",
    "\n",
    "# In Pohl paper, V0 is aabout 2 kHz for their parameters. Just check that functions above reproduce that\n",
    "print(\"V_0/(hbar) = \" + str((V0(I_pohl,Del)/hbar)*1e-3) + \" kHz\")\n",
    "# The Pohl paper is a little unclear on units. Unlike iwth Rabi frequency, they do not specify dividing V0 by 2*pi\n",
    "# I think their 2 kHz term has a factor of 2*pi in it, i.e. it is V0/(hbar)"
   ]
  },
  {
   "cell_type": "code",
   "execution_count": 672,
   "metadata": {},
   "outputs": [
    {
     "data": {
      "text/plain": [
       "Text(0.5,1,'Dressed Interaction Strength')"
      ]
     },
     "execution_count": 672,
     "metadata": {},
     "output_type": "execute_result"
    },
    {
     "data": {
      "image/png": "[encoded data removed]",
      "text/plain": [
       "<Figure size 432x288 with 1 Axes>"
      ]
     },
     "metadata": {},
     "output_type": "display_data"
    }
   ],
   "source": [
    "a = (813.5e-9)/2 # length scale, lattice constant in magic wavelength lattice\n",
    "Del = 20*Omega(I_pohl)\n",
    "x = np.linspace(0,Rc(Del)*2.5,1000)\n",
    "plt.plot(x*1e6,1e-3*V(x,I_pohl,Del)/(2*np.pi*hbar))\n",
    "plt.ylabel(\"V(r)/2$\\pi$  (kHz)\",fontsize=16)\n",
    "plt.xlabel(\"Atomic Separation $'r'$  ($\\mu$m)\",fontsize=16)\n",
    "plt.title(\"Dressed Interaction Strength\",fontsize=18)"
   ]
  },
  {
   "cell_type": "markdown",
   "metadata": {},
   "source": [
    "Now the interaction strengths as a function of Rabi frequency, atomic separation, etc. are mapped out. Next figure out a beam waist that achieves the stated goal of less than 10% variation in rabi frequency across the atom array"
   ]
  },
  {
   "cell_type": "code",
   "execution_count": 673,
   "metadata": {},
   "outputs": [],
   "source": [
    "# Intensity as a function of beam parameters\n",
    "def I(r,z,w0,P):\n",
    "    I0 = P/(np.pi*(w0**2))\n",
    "    zR = np.pi*(w0**2)/(317e-9)\n",
    "    w = w0*np.sqrt(1 + (z/zR)**2)\n",
    "    return I0*((w0/w)**2)*np.exp(-2*(r**2)/(w**2))"
   ]
  },
  {
   "cell_type": "code",
   "execution_count": 707,
   "metadata": {},
   "outputs": [
    {
     "name": "stdout",
     "output_type": "stream",
     "text": [
      "9.336087208862764 percent variation in Rabi frequency across array\n"
     ]
    },
    {
     "data": {
      "image/png": "[encoded data removed]",
      "text/plain": [
       "<Figure size 432x288 with 2 Axes>"
      ]
     },
     "metadata": {},
     "output_type": "display_data"
    }
   ],
   "source": [
    "P = .5 # 1 W of power\n",
    "w0 = 55e-6 # beam waist\n",
    "I0 = P/(np.pi*(w0**2)) # peak intensity\n",
    "N = 11 ## N by N array\n",
    "\n",
    "spacing = (3e-6)\n",
    "RabiMap = np.zeros([N,N])\n",
    "for i in range(N):\n",
    "    for j in range(N):\n",
    "        RabiMap[i,j] = Omega(I(i*spacing - (N*spacing/2),j*spacing - (N*spacing/2),w0,P))\n",
    "        \n",
    "fig, ax = plt.subplots()\n",
    "pos = ax.imshow(RabiMap/(2*np.pi*1e6), interpolation='none')\n",
    "cbar = fig.colorbar(pos, ax=ax)\n",
    "plt.xlabel(\"z   (\" + str(round(spacing/1e-6,3)) + \" $\\mu$m)\")\n",
    "plt.ylabel(\"r   (\" + str(round(spacing/1e-6,3)) + \" $\\mu$m)\")\n",
    "plt.title(\"$w_0$ = \" + str(round(w0/1e-6,4)) + \" $\\mu$m; P = \" + str(P) + \" W\")\n",
    "cbar.ax.set_ylabel(\"Rabi Frequency (MHz / $2\\pi$)\",labelpad=25, rotation=270)\n",
    "\n",
    "print(str(((RabiMap.max() - RabiMap.min())/RabiMap.min())*100) + \" percent variation in Rabi frequency across array\")"
   ]
  },
  {
   "cell_type": "code",
   "execution_count": null,
   "metadata": {},
   "outputs": [],
   "source": []
  }
 ],
 "metadata": {
  "kernelspec": {
   "display_name": "Python 3",
   "language": "python",
   "name": "python3"
  },
  "language_info": {
   "codemirror_mode": {
    "name": "ipython",
    "version": 3
   },
   "file_extension": ".py",
   "mimetype": "text/x-python",
   "name": "python",
   "nbconvert_exporter": "python",
   "pygments_lexer": "ipython3",
   "version": "3.6.5"
  }
 },
 "nbformat": 4,
 "nbformat_minor": 2
}
