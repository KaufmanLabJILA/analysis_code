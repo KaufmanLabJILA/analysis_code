{
 "cells": [
  {
   "cell_type": "code",
   "execution_count": 17,
   "metadata": {
    "collapsed": true
   },
   "outputs": [],
   "source": [
    "import numpy as np\n",
    "import pandas as pd\n",
    "\n",
    "import matplotlib.pyplot as plt\n",
    "import matplotlib.patches as patchesge\n",
    "\n",
    "from scipy import ndimage as ndi\n",
    "from scipy.optimize import curve_fit\n",
    "\n",
    "import imageio\n",
    "from astropy.io import fits\n",
    "\n",
    "import os\n",
    "import time\n",
    "\n",
    "# Key step for importing lab libraries. Adding klab_python_lib to path \n",
    "# allows you to load any file in that folder as if it was a regular python library.\n",
    "import sys\n",
    "sys.path.append('../Analysis_code/klab_python_lib/')\n",
    "from klablib import *"
   ]
  },
  {
   "cell_type": "code",
   "execution_count": 16,
   "metadata": {},
   "outputs": [
    {
     "data": {
      "text/plain": [
       "'A:\\\\heap\\\\180418'"
      ]
     },
     "execution_count": 16,
     "metadata": {},
     "output_type": "execute_result"
    }
   ],
   "source": [
    "pwd"
   ]
  },
  {
   "cell_type": "code",
   "execution_count": null,
   "metadata": {
    "collapsed": true
   },
   "outputs": [],
   "source": []
  }
 ],
 "metadata": {
  "kernelspec": {
   "display_name": "Python 3",
   "language": "python",
   "name": "python3"
  },
  "language_info": {
   "codemirror_mode": {
    "name": "ipython",
    "version": 3
   },
   "file_extension": ".py",
   "mimetype": "text/x-python",
   "name": "python",
   "nbconvert_exporter": "python",
   "pygments_lexer": "ipython3",
   "version": "3.6.3"
  }
 },
 "nbformat": 4,
 "nbformat_minor": 2
}
